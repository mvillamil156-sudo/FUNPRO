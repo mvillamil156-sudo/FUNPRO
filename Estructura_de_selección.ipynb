{
  "nbformat": 4,
  "nbformat_minor": 0,
  "metadata": {
    "colab": {
      "provenance": []
    },
    "kernelspec": {
      "name": "python3",
      "display_name": "Python 3"
    },
    "language_info": {
      "name": "python"
    }
  },
  "cells": [
    {
      "cell_type": "code",
      "execution_count": null,
      "metadata": {
        "colab": {
          "base_uri": "https://localhost:8080/"
        },
        "id": "tc4WVOnEvLmE",
        "outputId": "a2c053fa-abf7-47ca-cc95-cd90a28a7581"
      },
      "outputs": [
        {
          "output_type": "stream",
          "name": "stdout",
          "text": [
            "ingrese la nota:4\n",
            "Aprobó\n"
          ]
        }
      ],
      "source": [
        "n1=float(input(\"ingrese la nota:\"))\n",
        "if n1>=3.2:\n",
        " print(\"Aprobó\")\n",
        "else:\n",
        " print(\"Reprobó\")"
      ]
    },
    {
      "cell_type": "code",
      "source": [
        "s=int(input(\"ingrese su sueldo actual:\"))\n",
        "s2=float((s*1.15))\n",
        "s3=float((s*1.12))\n",
        "if s<=1000:\n",
        " print(f\"Su nuevo sueldo es: {s2}\")\n",
        "else:\n",
        " print(f\"Su nuevo sueldo es: {s3}\")\n"
      ],
      "metadata": {
        "colab": {
          "base_uri": "https://localhost:8080/"
        },
        "id": "i_J30BcTyX6K",
        "outputId": "139b0fb8-4ffc-4178-ffc9-389cb40fc76b"
      },
      "execution_count": null,
      "outputs": [
        {
          "output_type": "stream",
          "name": "stdout",
          "text": [
            "ingrese su sueldo actual:1000\n",
            "Su nuevo sueldo es: 1150.0\n"
          ]
        }
      ]
    },
    {
      "cell_type": "markdown",
      "source": [
        "n1=float"
      ],
      "metadata": {
        "id": "lQo7UKaew7nz"
      }
    }
  ]
}