{
  "nbformat": 4,
  "nbformat_minor": 0,
  "metadata": {
    "colab": {
      "provenance": []
    },
    "kernelspec": {
      "name": "python3",
      "display_name": "Python 3"
    },
    "language_info": {
      "name": "python"
    }
  },
  "cells": [
    {
      "cell_type": "code",
      "execution_count": null,
      "metadata": {
        "id": "amrVphWnyXJw"
      },
      "outputs": [],
      "source": [
        "n1=int(input(\"Ingrese humedad en el suelo:\"))\n",
        "n2=int(input(\"Ingrese la probabilidad de lluvia:\"))\n",
        "n3=int(input(\"Ingrese la temperatura:\"))\n",
        "n4=int(input(\"Ingrese la hora:\"))\n",
        "if n1<35 and n2<40:\n",
        "  print(\"No regar\")\n",
        "elif n2>=70:\n",
        "  print(\"Nunca regar\")\n",
        "else:\n",
        "  print(\"Regar\")\n",
        "if n3>30 and n4==\"11\" or \"12\" or \"13\" or \"14\" or \"15\":\n",
        "  print(\"No regar\")"
      ]
    },
    {
      "cell_type": "code",
      "source": [
        "n1=int(input(\"Ingrese Kilovatios:\"))\n",
        "n2=int(input(\"Ingrese su estrato:\"))\n",
        "n3=input(\"Ingrese el día de la semana o si es festivo:\")\n",
        "match n2:\n",
        "  case 0:\n",
        "    print(f\"Recibe el 20%={n1*620*.2}\")\n",
        "  case 1:\n",
        "    print(f\"Recibe el 20%={n1*620*.2}\")\n",
        "  case 2:\n",
        "    print(f\"Recibe el 20%={n1*620*.2}\")\n",
        "if n3==\"sábado\" or \"domingo\" or \"festivo\" and n1>=1000:\n",
        "    print(f\"Recibe un recargo de={800*n1}\")\n",
        "else:\n",
        "    print(f\"Debe programar una visita al predio\")"
      ],
      "metadata": {
        "colab": {
          "base_uri": "https://localhost:8080/"
        },
        "id": "PgsskHGzy_9t",
        "outputId": "8b9842d7-f4b8-497d-b46c-4c91a07decc7"
      },
      "execution_count": 17,
      "outputs": [
        {
          "output_type": "stream",
          "name": "stdout",
          "text": [
            "Ingrese Kilovatios:20\n",
            "Ingrese su estrato:10\n",
            "Ingrese el día de la semana o si es festivo:0\n",
            "Recibe un recargo de=16000\n"
          ]
        }
      ]
    },
    {
      "cell_type": "code",
      "source": [
        "n1=int(input(\"Ingrese Kilovatios:\"))\n",
        "n2=int(input(\"Ingrese su estrato:\"))\n",
        "n3=input(\"Ingrese el día de la semana o si es festivo:\")"
      ],
      "metadata": {
        "colab": {
          "base_uri": "https://localhost:8080/"
        },
        "id": "Mh5v_MWIg2V1",
        "outputId": "082a9356-0e86-4760-93f3-46fdbfde6fe4"
      },
      "execution_count": 12,
      "outputs": [
        {
          "name": "stdout",
          "output_type": "stream",
          "text": [
            "Ingrese Kilovatios:20\n",
            "Ingrese su estrato:0\n",
            "Ingrese el día de la semana o si es festivo:lunes\n"
          ]
        }
      ]
    },
    {
      "cell_type": "code",
      "source": [
        "match n2:\n",
        "  case 0:\n",
        "    print(f\"Recibe el 20%={n1*620*.2}\")"
      ],
      "metadata": {
        "colab": {
          "base_uri": "https://localhost:8080/"
        },
        "id": "-DnetMWrg-00",
        "outputId": "c75019f1-6a17-4484-a74c-7d9f465752a7"
      },
      "execution_count": 13,
      "outputs": [
        {
          "output_type": "stream",
          "name": "stdout",
          "text": [
            "Recibe el 20%=2480.0\n"
          ]
        }
      ]
    }
  ]
}