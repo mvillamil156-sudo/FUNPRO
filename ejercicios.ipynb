{
  "nbformat": 4,
  "nbformat_minor": 0,
  "metadata": {
    "colab": {
      "provenance": []
    },
    "kernelspec": {
      "name": "python3",
      "display_name": "Python 3"
    },
    "language_info": {
      "name": "python"
    }
  },
  "cells": [
    {
      "cell_type": "code",
      "execution_count": 23,
      "metadata": {
        "colab": {
          "base_uri": "https://localhost:8080/"
        },
        "id": "amrVphWnyXJw",
        "outputId": "c1bbf56e-68e0-4545-b4e1-aef38fc7a09f"
      },
      "outputs": [
        {
          "output_type": "stream",
          "name": "stdout",
          "text": [
            "Ingrese humeddad en el suelo20\n",
            "Ingrese la probabilidad de lluvia0\n",
            "Ingrese la temperatura10\n",
            "No regar\n"
          ]
        }
      ],
      "source": [
        "n1=int(input(\"Ingrese humeddad en el suelo\"))\n",
        "n2=int(input(\"Ingrese la probabilidad de lluvia\"))\n",
        "n3=int(input(\"Ingrese la temperatura\"))\n",
        "\n",
        "if n1<35 and n2<40:\n",
        "  print(\"No regar\")\n",
        "elif n2>=70:\n",
        "  print(\"Nunca regar\")\n",
        "else:\n",
        "  print(\"Regar\")"
      ]
    },
    {
      "cell_type": "code",
      "source": [
        "n1=input(\"Ingrese Kilovatios:\")\n",
        "n2=input(\"Ingrese su estrato:\")\n",
        "n3=input(\"Ingrese el día de la semana o si es festivo:\")\n",
        "if n1<0 or n2 not in range(7):\n",
        "    print(\"Error: n1 o n2 no es válido\")\n",
        "else:\n",
        "          base=n1*620\n",
        "          descuento=0\n",
        "          recrago=0\n",
        "          if n2 in [0, 1, 2]:\n",
        "           descuento=base*0.20\n",
        "if n3 in [\"sábado\",\"domingo\",\"festivo\"]:\n",
        "    if n1>1000:\n",
        "          recargo=(kwh-1000)*800\n",
        "          print(\"hay recargo\")"
      ],
      "metadata": {
        "colab": {
          "base_uri": "https://localhost:8080/",
          "height": 263
        },
        "id": "PgsskHGzy_9t",
        "outputId": "54ffaac4-3fae-4650-ed60-1b04245a1bcc"
      },
      "execution_count": 27,
      "outputs": [
        {
          "name": "stdout",
          "output_type": "stream",
          "text": [
            "Ingrese Kilovatios:20\n",
            "Ingrese su estrato:5\n",
            "Ingrese el día de la semana o si es festivo:1\n"
          ]
        },
        {
          "output_type": "error",
          "ename": "TypeError",
          "evalue": "'<' not supported between instances of 'str' and 'int'",
          "traceback": [
            "\u001b[0;31m---------------------------------------------------------------------------\u001b[0m",
            "\u001b[0;31mTypeError\u001b[0m                                 Traceback (most recent call last)",
            "\u001b[0;32m/tmp/ipython-input-3392842987.py\u001b[0m in \u001b[0;36m<cell line: 0>\u001b[0;34m()\u001b[0m\n\u001b[1;32m      2\u001b[0m \u001b[0mn2\u001b[0m\u001b[0;34m=\u001b[0m\u001b[0minput\u001b[0m\u001b[0;34m(\u001b[0m\u001b[0;34m\"Ingrese su estrato:\"\u001b[0m\u001b[0;34m)\u001b[0m\u001b[0;34m\u001b[0m\u001b[0;34m\u001b[0m\u001b[0m\n\u001b[1;32m      3\u001b[0m \u001b[0mn3\u001b[0m\u001b[0;34m=\u001b[0m\u001b[0minput\u001b[0m\u001b[0;34m(\u001b[0m\u001b[0;34m\"Ingrese el día de la semana o si es festivo:\"\u001b[0m\u001b[0;34m)\u001b[0m\u001b[0;34m\u001b[0m\u001b[0;34m\u001b[0m\u001b[0m\n\u001b[0;32m----> 4\u001b[0;31m \u001b[0;32mif\u001b[0m \u001b[0mn1\u001b[0m\u001b[0;34m<\u001b[0m\u001b[0;36m0\u001b[0m \u001b[0;32mor\u001b[0m \u001b[0mn2\u001b[0m \u001b[0;32mnot\u001b[0m \u001b[0;32min\u001b[0m \u001b[0mrange\u001b[0m\u001b[0;34m(\u001b[0m\u001b[0;36m7\u001b[0m\u001b[0;34m)\u001b[0m\u001b[0;34m:\u001b[0m\u001b[0;34m\u001b[0m\u001b[0;34m\u001b[0m\u001b[0m\n\u001b[0m\u001b[1;32m      5\u001b[0m     \u001b[0mprint\u001b[0m\u001b[0;34m(\u001b[0m\u001b[0;34m\"Error: n1 o n2 no es válido\"\u001b[0m\u001b[0;34m)\u001b[0m\u001b[0;34m\u001b[0m\u001b[0;34m\u001b[0m\u001b[0m\n\u001b[1;32m      6\u001b[0m \u001b[0;32melse\u001b[0m\u001b[0;34m:\u001b[0m\u001b[0;34m\u001b[0m\u001b[0;34m\u001b[0m\u001b[0m\n",
            "\u001b[0;31mTypeError\u001b[0m: '<' not supported between instances of 'str' and 'int'"
          ]
        }
      ]
    }
  ]
}