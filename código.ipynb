{
  "nbformat": 4,
  "nbformat_minor": 0,
  "metadata": {
    "colab": {
      "provenance": []
    },
    "kernelspec": {
      "name": "python3",
      "display_name": "Python 3"
    },
    "language_info": {
      "name": "python"
    }
  },
  "cells": [
    {
      "cell_type": "code",
      "execution_count": 19,
      "metadata": {
        "colab": {
          "base_uri": "https://localhost:8080/"
        },
        "id": "RBwXo6TD1mfi",
        "outputId": "32bf6d09-138a-464e-bbbf-080bc5d21bba"
      },
      "outputs": [
        {
          "output_type": "stream",
          "name": "stdout",
          "text": [
            "Ingrese un número:-3050\n",
            "Es negativo\n"
          ]
        }
      ],
      "source": [
        "n1=int(input(\"Ingrese un número:\"))\n",
        "if n1==0:\n",
        "  print(\"Es cero\")\n",
        "elif n1>0:\n",
        "  print(\"Es positivo\")\n",
        "elif n1<0:\n",
        "  print(\"Es negativo\")\n",
        "else:\n",
        "  print(\"Error\")"
      ]
    },
    {
      "cell_type": "code",
      "source": [
        "a=int(input(\"Ingrese el año:\"))\n",
        "if {a/4} == 0:\n",
        "  print(\"No es bisiesto\")\n",
        "elif {a/100} == 0:\n",
        "  print(\"Es bisiesto\")\n",
        "elif {a/400} == 0:\n",
        "  print(\"Es bisiesto\")\n",
        "else:\n",
        "  print(\"No es bisiesto\")"
      ],
      "metadata": {
        "colab": {
          "base_uri": "https://localhost:8080/"
        },
        "id": "3tyF0UYC2fgG",
        "outputId": "6c360aaf-62d0-482a-f8f4-84c74bfe8553"
      },
      "execution_count": 52,
      "outputs": [
        {
          "output_type": "stream",
          "name": "stdout",
          "text": [
            "Ingrese el año:2000\n",
            "No es bisiesto\n"
          ]
        }
      ]
    },
    {
      "cell_type": "code",
      "source": [
        "p=float(input(\"Ingrese el peso\"))\n",
        "a=float(input(\"Ingrese la altura\"))\n",
        "imc=float\n",
        "imc=(p/(a**2))\n",
        "if imc < 18.5:\n",
        " print(\"Bajo peso\")\n",
        "elif imc < 25.0:\n",
        " print(\"Peso normal\")\n",
        "elif imc < 30.0:\n",
        " print(\"Sobrepeso\")\n",
        "else:\n",
        "  print(\"Obesidad\")"
      ],
      "metadata": {
        "id": "r7qyb_oD3L3d",
        "colab": {
          "base_uri": "https://localhost:8080/"
        },
        "outputId": "d57d4cbc-1270-43bc-a8d5-81329f3c14cb"
      },
      "execution_count": 63,
      "outputs": [
        {
          "output_type": "stream",
          "name": "stdout",
          "text": [
            "Ingrese el peso50\n",
            "Ingrese la altura1.65\n",
            "Bajo peso\n"
          ]
        }
      ]
    },
    {
      "cell_type": "code",
      "source": [
        "n1=float(input(\"Ingrese su primer número\"))\n",
        "n2=float(input(\"Ingrese su segundo número\"))\n",
        "signo=(input(\"Ingrese el signo con el que va a operar\"))\n",
        "match signo:\n",
        "      case\"+\":\n",
        "       print(n1+n2)\n",
        "      case \"-\":\n",
        "       print(n1-n2)\n",
        "      case \"*\":\n",
        "       print(n1*n2)\n",
        "      case\"/\":\n",
        "       print(n1/n2)\n",
        "      case\"_\":\n",
        "       print(\"Error\")"
      ],
      "metadata": {
        "colab": {
          "base_uri": "https://localhost:8080/"
        },
        "id": "HZYjmngUJhGi",
        "outputId": "01fe4dbe-4879-4941-9a1e-9f3540291c60"
      },
      "execution_count": 73,
      "outputs": [
        {
          "output_type": "stream",
          "name": "stdout",
          "text": [
            "Ingrese su primer número50\n",
            "Ingrese su segundo número35\n",
            "Ingrese el signo con el que va a operar+\n",
            "85.0\n"
          ]
        }
      ]
    },
    {
      "cell_type": "code",
      "source": [
        "l1=float(input(\"Ingrese lado 1:\"))\n",
        "l2=float(input(\"Ingrese lado 2:\"))\n",
        "l3=float(input(\"Ingrese lado 3:\"))\n",
        "longitud=float(input(\"Ingrese la longitud\"))\n",
        "if l1==l2 and l2==l3 and l1==l3:\n",
        "               print(\"Es equilatero\")\n",
        "elif l1==l2 or l2==l3 or l1==l3:\n",
        "               print(\"Es isósceles\")\n",
        "else:\n",
        "               print(\"Es escaleno\")"
      ],
      "metadata": {
        "colab": {
          "base_uri": "https://localhost:8080/"
        },
        "id": "_ciRqGTPK9YB",
        "outputId": "a2225163-cbe4-4ba2-ea16-8023f4089018"
      },
      "execution_count": 78,
      "outputs": [
        {
          "output_type": "stream",
          "name": "stdout",
          "text": [
            "Ingrese lado 1:2\n",
            "Ingrese lado 2:3\n",
            "Ingrese lado 3:4\n",
            "Ingrese la longitud24\n",
            "Es escaleno\n"
          ]
        }
      ]
    },
    {
      "cell_type": "code",
      "source": [],
      "metadata": {
        "id": "lIt0ePZZKuQQ"
      },
      "execution_count": null,
      "outputs": []
    }
  ]
}