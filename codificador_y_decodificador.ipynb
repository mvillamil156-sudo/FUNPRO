{
  "nbformat": 4,
  "nbformat_minor": 0,
  "metadata": {
    "colab": {
      "provenance": [],
      "authorship_tag": "ABX9TyOv7dnjNzlwzguGFw7QGht/",
      "include_colab_link": true
    },
    "kernelspec": {
      "name": "python3",
      "display_name": "Python 3"
    },
    "language_info": {
      "name": "python"
    }
  },
  "cells": [
    {
      "cell_type": "markdown",
      "metadata": {
        "id": "view-in-github",
        "colab_type": "text"
      },
      "source": [
        "<a href=\"https://colab.research.google.com/github/mvillamil156-sudo/FUNPRO/blob/main/codificador_y_decodificador.ipynb\" target=\"_parent\"><img src=\"https://colab.research.google.com/assets/colab-badge.svg\" alt=\"Open In Colab\"/></a>"
      ]
    },
    {
      "cell_type": "code",
      "execution_count": 16,
      "metadata": {
        "colab": {
          "base_uri": "https://localhost:8080/"
        },
        "id": "90p2Cw7R_dqD",
        "outputId": "a12cfad1-62b4-4fd2-d042-3ada95f25048"
      },
      "outputs": [
        {
          "output_type": "stream",
          "name": "stdout",
          "text": [
            "orsa or emi ñqeozi\n",
            "esto es un prueb\n"
          ]
        }
      ],
      "source": [
        "#Cualquier mensaje codificado, se traduzca orsa or emi ñqeozi\n",
        "prueba=input(\"\")\n",
        "resultado=\"\"\n",
        "for letra in range(len(prueba)):\n",
        " if prueba[letra]==\"a\": resultado=resultado+ \"o\"\n",
        " elif prueba[letra]==\"e\": resultado=resultado+ \"u\"\n",
        " elif prueba[letra]==\"i\": reusltado=resultado+ \"a\"\n",
        " elif prueba[letra]==\"o\": resultado=resultado+ \"e\"\n",
        " elif prueba[letra]==\"u\": resultado=resultado+ \"i\"\n",
        " elif prueba[letra]==\"b\": resultado=resultado+ \"c\"\n",
        " elif prueba[letra]==\"c\": resultado=resultado+ \"d\"\n",
        " elif prueba[letra]==\"d\": resultado=resultado+ \"f\"\n",
        " elif prueba[letra]==\"f\": resultado=resultado+ \"g\"\n",
        " elif prueba[letra]==\"g\": resultado=resultado+ \"h\"\n",
        " elif prueba[letra]==\"h\": resultado=resultado+ \"j\"\n",
        " elif prueba[letra]==\"j\": resultado=resultado+ \"k\"\n",
        " elif prueba[letra]==\"k\": resultado=resultado+ \"l\"\n",
        " elif prueba[letra]==\"l\": resultado=resultado+ \"m\"\n",
        " elif prueba[letra]==\"m\": resultado=resultado+ \"n\"\n",
        " elif prueba[letra]==\"ñ\": resultado=resultado+ \"p\"\n",
        " elif prueba[letra]==\"p\": resultado=resultado+ \"q\"\n",
        " elif prueba[letra]==\"q\": resultado=resultado+ \"r\"\n",
        " elif prueba[letra]==\"r\": resultado=resultado+ \"s\"\n",
        " elif prueba[letra]==\"s\": resultado=resultado+ \"t\"\n",
        " elif prueba[letra]==\"t\": resultado=resultado+ \"v\"\n",
        " elif prueba[letra]==\"v\": resultado=resultado+ \"w\"\n",
        " elif prueba[letra]==\"w\": resultado=resultado+ \"x\"\n",
        " elif prueba[letra]==\"x\": resultado=resultado+ \"y\"\n",
        " elif prueba[letra]==\"y\": resultado=resultado+ \"z\"\n",
        " elif prueba[letra]==\"z\": resultado=resultado+ \"b\"\n",
        " else: resultado=resultado+prueba[letra]\n",
        "print(resultado)"
      ]
    }
  ]
}