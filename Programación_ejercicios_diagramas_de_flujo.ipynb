{
  "nbformat": 4,
  "nbformat_minor": 0,
  "metadata": {
    "colab": {
      "provenance": []
    },
    "kernelspec": {
      "name": "python3",
      "display_name": "Python 3"
    },
    "language_info": {
      "name": "python"
    }
  },
  "cells": [
    {
      "cell_type": "code",
      "execution_count": 9,
      "metadata": {
        "colab": {
          "base_uri": "https://localhost:8080/"
        },
        "id": "9qy7FFbhjvQ4",
        "outputId": "bd497639-3e95-4345-f720-f24eb35e0701"
      },
      "outputs": [
        {
          "output_type": "stream",
          "name": "stdout",
          "text": [
            "Ingrese la cantidad de números a analizar5\n",
            "Ingrese el número 1: 2\n",
            "Ingrese el número 2: 3\n",
            "Ingrese el número 3: 1\n",
            "Ingrese el número 4: 4\n",
            "Ingrese el número 5: 2\n",
            "La cantidad de ceros en 5 números es 0 \n"
          ]
        }
      ],
      "source": [
        "n=int(input(\"Ingrese la cantidad de números a analizar\"))\n",
        "cero=0\n",
        "for i in range(1,n+1):\n",
        "  num=int(input(f\"Ingrese el número {i}: \"))\n",
        "  if num==0: cero=cero+1\n",
        "print(f\"La cantidad de ceros en {n} números es {cero} \")"
      ]
    },
    {
      "cell_type": "code",
      "source": [
        "impar=0\n",
        "pares=0\n",
        "n=0\n",
        "for i in range(10):\n",
        " num=int(input(f\"Ingrese el número: \"))\n",
        "\n",
        " if num%2==0:\n",
        "  pares=pares+num\n",
        "  n=n+1\n",
        " else: impar=impar+num\n",
        "print(f\"La suma de los impares es {impar}\")\n",
        "print(f\"El promedio de los números pares es {pares/n}\")\n"
      ],
      "metadata": {
        "colab": {
          "base_uri": "https://localhost:8080/"
        },
        "id": "_rnHMPfjmLpu",
        "outputId": "1be53acd-8265-44ed-d1ce-f1dc4e488b56"
      },
      "execution_count": 13,
      "outputs": [
        {
          "output_type": "stream",
          "name": "stdout",
          "text": [
            "Ingrese el número: 5\n",
            "Ingrese el número: 3\n",
            "Ingrese el número: 2\n",
            "Ingrese el número: 6\n",
            "Ingrese el número: 2\n",
            "Ingrese el número: 8\n",
            "Ingrese el número: 5\n",
            "Ingrese el número: 1\n",
            "Ingrese el número: 2\n",
            "Ingrese el número: 3\n",
            "La suma de los impares es 17\n",
            "El promedio de los números pares es 4.0\n"
          ]
        }
      ]
    },
    {
      "cell_type": "code",
      "source": [
        "i=0\n",
        "num=0\n",
        "cifra=int(input(\"Ingrese su número:\"))\n",
        "for i in cifra:\n",
        " if cifra==1:\n",
        "  num+=1\n",
        "print(f\"La cantidad de 1 es {num}\")"
      ],
      "metadata": {
        "colab": {
          "base_uri": "https://localhost:8080/",
          "height": 228
        },
        "id": "FKXceUm1tLcL",
        "outputId": "4f9f4484-88d3-4efe-c0eb-21f80eebfd19"
      },
      "execution_count": 75,
      "outputs": [
        {
          "name": "stdout",
          "output_type": "stream",
          "text": [
            "Ingrese su número:1111\n"
          ]
        },
        {
          "output_type": "error",
          "ename": "TypeError",
          "evalue": "'int' object is not iterable",
          "traceback": [
            "\u001b[0;31m---------------------------------------------------------------------------\u001b[0m",
            "\u001b[0;31mTypeError\u001b[0m                                 Traceback (most recent call last)",
            "\u001b[0;32m/tmp/ipython-input-3623705975.py\u001b[0m in \u001b[0;36m<cell line: 0>\u001b[0;34m()\u001b[0m\n\u001b[1;32m      2\u001b[0m \u001b[0mnum\u001b[0m\u001b[0;34m=\u001b[0m\u001b[0;36m0\u001b[0m\u001b[0;34m\u001b[0m\u001b[0;34m\u001b[0m\u001b[0m\n\u001b[1;32m      3\u001b[0m \u001b[0mcifra\u001b[0m\u001b[0;34m=\u001b[0m\u001b[0mint\u001b[0m\u001b[0;34m(\u001b[0m\u001b[0minput\u001b[0m\u001b[0;34m(\u001b[0m\u001b[0;34m\"Ingrese su número:\"\u001b[0m\u001b[0;34m)\u001b[0m\u001b[0;34m)\u001b[0m\u001b[0;34m\u001b[0m\u001b[0;34m\u001b[0m\u001b[0m\n\u001b[0;32m----> 4\u001b[0;31m \u001b[0;32mfor\u001b[0m \u001b[0mi\u001b[0m \u001b[0;32min\u001b[0m \u001b[0mcifra\u001b[0m\u001b[0;34m:\u001b[0m\u001b[0;34m\u001b[0m\u001b[0;34m\u001b[0m\u001b[0m\n\u001b[0m\u001b[1;32m      5\u001b[0m  \u001b[0;32mif\u001b[0m \u001b[0mcifra\u001b[0m\u001b[0;34m==\u001b[0m\u001b[0;36m1\u001b[0m\u001b[0;34m:\u001b[0m\u001b[0;34m\u001b[0m\u001b[0;34m\u001b[0m\u001b[0m\n\u001b[1;32m      6\u001b[0m   \u001b[0mnum\u001b[0m\u001b[0;34m+=\u001b[0m\u001b[0;36m1\u001b[0m\u001b[0;34m\u001b[0m\u001b[0;34m\u001b[0m\u001b[0m\n",
            "\u001b[0;31mTypeError\u001b[0m: 'int' object is not iterable"
          ]
        }
      ]
    }
  ]
}